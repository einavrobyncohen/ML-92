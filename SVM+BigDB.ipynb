{
 "cells": [
  {
   "cell_type": "code",
   "execution_count": 11,
   "metadata": {},
   "outputs": [],
   "source": [
    "from sklearn import svm\n",
    "from sklearn.model_selection import train_test_split\n",
    "from sklearn.metrics import classification_report\n",
    "from sklearn.metrics import accuracy_score\n",
    "import pandas as pd"
   ]
  },
  {
   "cell_type": "markdown",
   "metadata": {},
   "source": [
    "# Load data"
   ]
  },
  {
   "cell_type": "code",
   "execution_count": 5,
   "metadata": {},
   "outputs": [],
   "source": [
    "diabetes_binary = pd.read_csv('SMOTE+TOMEK/train.csv')"
   ]
  },
  {
   "cell_type": "markdown",
   "metadata": {},
   "source": [
    "# Needed features"
   ]
  },
  {
   "cell_type": "code",
   "execution_count": 6,
   "metadata": {},
   "outputs": [],
   "source": [
    "features = diabetes_binary['Diabetes_binary']\n",
    "target = diabetes_binary.drop(columns=['Diabetes_binary'])"
   ]
  },
  {
   "cell_type": "markdown",
   "metadata": {},
   "source": [
    "# Divide data into Train and Test set"
   ]
  },
  {
   "cell_type": "code",
   "execution_count": 7,
   "metadata": {},
   "outputs": [],
   "source": [
    "# 80% training, 20% test\n",
    "# random state integer passed to make it reproducable\n",
    "X_train, X_test, y_train, y_test = train_test_split(target, features, test_size=0.2, random_state=92)\n",
    "\n",
    "#X_train.shape\n",
    "#y_test.shape"
   ]
  },
  {
   "cell_type": "markdown",
   "metadata": {},
   "source": [
    "# SVM from sklearn"
   ]
  },
  {
   "cell_type": "code",
   "execution_count": 8,
   "metadata": {},
   "outputs": [],
   "source": [
    "# Support vector classifier with linear kernel\n",
    "# High penalty to check for linearity\n",
    "linear_kernel = svm.SVC(kernel='linear', C=100000)\n",
    "linear_kernel.fit(X_train, y_train)\n",
    "y_predict_LK = linear_kernel.predict(X_test)"
   ]
  },
  {
   "cell_type": "code",
   "execution_count": null,
   "metadata": {},
   "outputs": [],
   "source": [
    "# Support vector classifier linear SVC (faster than SVC still linear)\n",
    "#linearSVC = svm.LinearSVC(C=100000)\n",
    "#linearSVC.fit(X_train, y_train)\n",
    "#y_predict_LSVC = linearSVC.predict(X_test)"
   ]
  },
  {
   "cell_type": "markdown",
   "metadata": {},
   "source": [
    "# Evalution (accuracy)"
   ]
  },
  {
   "cell_type": "code",
   "execution_count": 12,
   "metadata": {},
   "outputs": [
    {
     "name": "stdout",
     "output_type": "stream",
     "text": [
      "SVC linear kernel\n",
      "              precision    recall  f1-score   support\n",
      "\n",
      "         0.0       0.87      0.98      0.92     26103\n",
      "         1.0       0.53      0.14      0.22      4339\n",
      "\n",
      "    accuracy                           0.86     30442\n",
      "   macro avg       0.70      0.56      0.57     30442\n",
      "weighted avg       0.82      0.86      0.82     30442\n",
      "\n",
      "Accuracy: 0.8597661126075816\n"
     ]
    }
   ],
   "source": [
    "print(\"SVC linear kernel\")\n",
    "print(classification_report(y_test, y_predict_LK))\n",
    "print(\"Accuracy:\", accuracy_score(y_test, y_predict_LK))\n",
    "#print(\"Linear SVC:\", classification_report(y_test, y_predict_LSVC))"
   ]
  }
 ],
 "metadata": {
  "kernelspec": {
   "display_name": "Python 3",
   "language": "python",
   "name": "python3"
  },
  "language_info": {
   "codemirror_mode": {
    "name": "ipython",
    "version": 3
   },
   "file_extension": ".py",
   "mimetype": "text/x-python",
   "name": "python",
   "nbconvert_exporter": "python",
   "pygments_lexer": "ipython3",
   "version": "3.10.7"
  }
 },
 "nbformat": 4,
 "nbformat_minor": 2
}
