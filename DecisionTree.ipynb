{
 "cells": [
  {
   "cell_type": "markdown",
   "metadata": {},
   "source": [
    "# Decision Tree\n",
    "https://www.youtube.com/watch?v=NxEHSAfFlK8 <br>\n",
    "Need to decide on\n",
    "- Which feature do we split on\n",
    "- Where to split (eg with numerical values)\n",
    "- When to stop\n"
   ]
  },
  {
   "cell_type": "code",
   "execution_count": null,
   "metadata": {},
   "outputs": [],
   "source": [
    "import numpy as np\n",
    "# TODO MUST WRITE THIS OURSELVES\n",
    "from collections import Counter\n",
    "\n",
    "class Node:\n",
    "    \"\"\"\n",
    "    A class made for nodes of a decision tree\n",
    "    \"\"\"\n",
    "    # to pass a value to the var 'value', you must call the name (because of *)\n",
    "    def __init__(self, feature=None, threshold=None, left=None, right=None, *, value=None):\n",
    "        # Which feature to split on\n",
    "        self.feature = feature\n",
    "        # Which threshold to split on (where)\n",
    "        self.threshold = threshold\n",
    "        # Left node we're pointing to\n",
    "        self.left = left\n",
    "        # Right node we're pointing to\n",
    "        self.right = right \n",
    "        # Value of the node. Incase it is not a leaf node, value is None\n",
    "        self.value = None\n",
    "\n",
    "    def is_leaf_node(self):\n",
    "        \"\"\"\n",
    "        This function checks whether a node is a leaf node or not\n",
    "\n",
    "        Returns:\n",
    "        True if the node is a leaf node\n",
    "        False id the node is NOT a leaf node\n",
    "        \"\"\"\n",
    "        return self.value is not None\n",
    "\n",
    "\n",
    "class DecisionTree:\n",
    "    \"\"\"\n",
    "    A class for a decision tree\n",
    "    \"\"\"\n",
    "    def __init__(self, min_sample_split=2, max_depth=100, n_features=None):\n",
    "        # Stopping criteria\n",
    "        self.min_samples_split = min_sample_split\n",
    "        self.max_depth = max_depth\n",
    "        # Add randomness to tree by eg using subset of features\n",
    "        self.n_features = n_features\n",
    "        # Root, start of tree\n",
    "        self.root = None\n",
    "\n",
    "    def fit(self, X, y):\n",
    "        \"\"\"\n",
    "        ....\n",
    "        \n",
    "        \"\"\"\n",
    "        # Making sure that parameter n_features does not exceed self.n_features\n",
    "        self.n_features = X.shape[1] if not self.n_features else min(X.shape[1], self.n_features)\n",
    "        # building tree recursively\n",
    "        self.root = self._grow_tree(X,y)\n",
    "    \n",
    "    # Helper function\n",
    "    def _grow_tree(self, X, y, depth=0):\n",
    "        \"\"\"\n",
    "        Function that grows the tree recursively, helper function used in fit function\n",
    "\n",
    "        \"\"\"\n",
    "        n_samples, n_featu = X.shape\n",
    "        # Get all unique labels (values of y)\n",
    "        n_labels = len(np.unique(y))\n",
    "\n",
    "        # Check the stopping criteria\n",
    "        if (depth >= self.max_depth or n_labels == 1 or n_samples < self.min_samples_split):\n",
    "            leaf_value = self._most_common_label(y)\n",
    "            return Node(value = leaf_value)\n",
    "\n",
    "        # Find the best split\n",
    "\n",
    "        # Create child nodes, create new subtrees\n",
    "\n",
    "        # Depth increase by 1 as we increase child nodes\n",
    "\n",
    "    # Helper function to calculate value of y\n",
    "    def _most_common_label(self, y):\n",
    "        \"\"\"\n",
    "        Helper function used in the _grow_tree_function to calculate the value of a node\n",
    "        \n",
    "        Return:\n",
    "        Returns the value of y\n",
    "        \"\"\"\n",
    "        # TODO: REWRITE\n",
    "        counter = Counter(y)\n",
    "        # Get most common label's tuple and the first info including the value\n",
    "        value = counter.most_common(1)[0][0]\n",
    "        return value\n",
    "\n",
    "    def predict():\n",
    "\n"
   ]
  },
  {
   "cell_type": "code",
   "execution_count": 13,
   "metadata": {},
   "outputs": [
    {
     "name": "stdout",
     "output_type": "stream",
     "text": [
      "{'hallo': 2, 'thuis': 1, 'tv': 1}\n"
     ]
    },
    {
     "data": {
      "text/plain": [
       "'hallo'"
      ]
     },
     "execution_count": 13,
     "metadata": {},
     "output_type": "execute_result"
    }
   ],
   "source": [
    "y = ['hallo', 'hallo', 'thuis', 'tv']\n",
    "dct = {}\n",
    "for i in y:\n",
    "    if i in dct:\n",
    "        dct[i] += 1\n",
    "    else:\n",
    "        dct[i] = 1\n",
    "print(dct)\n",
    "max(set(y), key=y.count)\n"
   ]
  }
 ],
 "metadata": {
  "kernelspec": {
   "display_name": "Python 3",
   "language": "python",
   "name": "python3"
  },
  "language_info": {
   "codemirror_mode": {
    "name": "ipython",
    "version": 3
   },
   "file_extension": ".py",
   "mimetype": "text/x-python",
   "name": "python",
   "nbconvert_exporter": "python",
   "pygments_lexer": "ipython3",
   "version": "3.10.7"
  }
 },
 "nbformat": 4,
 "nbformat_minor": 2
}
