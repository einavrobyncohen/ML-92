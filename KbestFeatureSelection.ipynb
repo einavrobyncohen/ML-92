{
 "cells": [
  {
   "cell_type": "code",
   "execution_count": 18,
   "metadata": {},
   "outputs": [],
   "source": [
    "from sklearn.model_selection import train_test_split\n",
    "from sklearn import svm\n",
    "from sklearn.metrics import f1_score\n",
    "from sklearn.feature_selection import SelectKBest, mutual_info_classif\n",
    "from sklearn.ensemble import GradientBoostingClassifier\n",
    "import pandas as pd\n",
    "import matplotlib.pyplot as plt\n",
    "import numpy as np"
   ]
  },
  {
   "cell_type": "markdown",
   "metadata": {},
   "source": [
    "# Data"
   ]
  },
  {
   "cell_type": "code",
   "execution_count": 19,
   "metadata": {},
   "outputs": [],
   "source": [
    "diabetes_processed = pd.read_csv('processed_diabetes_binary.csv')"
   ]
  },
  {
   "cell_type": "code",
   "execution_count": 20,
   "metadata": {},
   "outputs": [],
   "source": [
    "X = diabetes_processed['Diabetes_binary']\n",
    "y = diabetes_processed.drop(columns=['Diabetes_binary'])\n",
    "X_train, X_test, y_train, y_test = train_test_split(y, X, test_size=0.2, random_state=92)\n"
   ]
  },
  {
   "cell_type": "markdown",
   "metadata": {},
   "source": [
    "# K-best feature"
   ]
  },
  {
   "cell_type": "code",
   "execution_count": 21,
   "metadata": {},
   "outputs": [],
   "source": [
    "f1_score_list = []\n",
    "# Dual set to false since instances > features\n",
    "#lsvm = svm.LinearSVC(dual=False,C=1000000)\n",
    "gbc = GradientBoostingClassifier()\n",
    "# arbitrary k, we decide (now 21 features, aka all of them)\n",
    "for k in range(1, 22):\n",
    "    selector = SelectKBest(mutual_info_classif, k=k)\n",
    "    selector.fit(X_train, y_train)\n",
    "\n",
    "    selector_X_train = selector.transform(X_train)\n",
    "    selector_X_test = selector.transform(X_test)\n",
    "\n",
    "    # Fit on model\n",
    "    gbc.fit(selector_X_train, y_train)\n",
    "    kbest_predictions = gbc.predict(selector_X_test)\n",
    "\n",
    "    f1_score_kbest = round(f1_score(y_test, kbest_predictions, average='weighted'), 3)\n",
    "    f1_score_list.append(f1_score_kbest)\n"
   ]
  },
  {
   "cell_type": "code",
   "execution_count": 41,
   "metadata": {},
   "outputs": [
    {
     "data": {
      "image/png": "[encoded data removed]",
      "text/plain": [
       "<Figure size 432x288 with 1 Axes>"
      ]
     },
     "metadata": {
      "needs_background": "light"
     },
     "output_type": "display_data"
    }
   ],
   "source": [
    "fig, ax = plt.subplots()\n",
    "\n",
    "x = np.arange(1,22)\n",
    "y = f1_score_list\n",
    "\n",
    "ax.bar(x,y, width=0.5)\n",
    "ax.set_xlabel(\"Number of features selected using mutual information\")\n",
    "ax.set_ylabel(\"F1-score weighted\")\n",
    "ax.set_ylim(0, 1.2)\n",
    "ax.set_xticks(np.arange(1,22))\n",
    "ax.set_xticklabels(np.arange(1,22), fontsize=12)\n",
    "\n",
    "for index, value in enumerate(y):\n",
    "    plt.text(x=index+1, y=value+0.05, s=str(value), ha='center')\n",
    "\n",
    "plt.tight_layout()"
   ]
  },
  {
   "cell_type": "code",
   "execution_count": 42,
   "metadata": {},
   "outputs": [
    {
     "name": "stdout",
     "output_type": "stream",
     "text": [
      "[0.799, 0.799, 0.799, 0.799, 0.799, 0.812, 0.812, 0.814, 0.828, 0.832, 0.832, 0.831, 0.834, 0.833, 0.833, 0.834, 0.834, 0.835, 0.834, 0.834, 0.836]\n"
     ]
    }
   ],
   "source": [
    "print(f1_score_list)"
   ]
  },
  {
   "cell_type": "code",
   "execution_count": 43,
   "metadata": {},
   "outputs": [
    {
     "data": {
      "text/plain": [
       "Index(['HighBP', 'HighChol', 'CholCheck', 'BMI', 'PhysActivity', 'Fruits',\n",
       "       'Veggies', 'AnyHealthcare', 'GenHlth', 'DiffWalk'],\n",
       "      dtype='object')"
      ]
     },
     "execution_count": 43,
     "metadata": {},
     "output_type": "execute_result"
    }
   ],
   "source": [
    "# Find the features\n",
    "selector = SelectKBest(mutual_info_classif, k=10)\n",
    "selector.fit(X_train,y_train)\n",
    "selected_feature_mask = selector.get_support()\n",
    "selected_features = X_train.columns[selected_feature_mask]\n",
    "selected_features # The 10 best features"
   ]
  }
 ],
 "metadata": {
  "kernelspec": {
   "display_name": "Python 3",
   "language": "python",
   "name": "python3"
  },
  "language_info": {
   "codemirror_mode": {
    "name": "ipython",
    "version": 3
   },
   "file_extension": ".py",
   "mimetype": "text/x-python",
   "name": "python",
   "nbconvert_exporter": "python",
   "pygments_lexer": "ipython3",
   "version": "3.9.0"
  }
 },
 "nbformat": 4,
 "nbformat_minor": 2
}
