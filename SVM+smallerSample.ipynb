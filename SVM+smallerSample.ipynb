{
 "cells": [
  {
   "cell_type": "code",
   "execution_count": 1,
   "metadata": {},
   "outputs": [],
   "source": [
    "from sklearn import svm\n",
    "from sklearn.model_selection import train_test_split\n",
    "from sklearn.metrics import classification_report\n",
    "import pandas as pd"
   ]
  },
  {
   "cell_type": "code",
   "execution_count": 2,
   "metadata": {},
   "outputs": [],
   "source": [
    "diabetes_processed = pd.read_csv('processed_diabetes_binary.csv')"
   ]
  },
  {
   "cell_type": "code",
   "execution_count": 3,
   "metadata": {},
   "outputs": [],
   "source": [
    "sample = diabetes_processed.sample(200, random_state=92)\n",
    "X = sample['Diabetes_binary']\n",
    "y = sample.drop(columns=['Diabetes_binary'])"
   ]
  },
  {
   "cell_type": "code",
   "execution_count": 4,
   "metadata": {},
   "outputs": [],
   "source": [
    "# 80% training, 20% test\n",
    "# random state integer passed to make it reproducable\n",
    "X_train, X_test, y_train, y_test = train_test_split(y, X, test_size=0.2, random_state=92)\n",
    "\n",
    "#X_train.shape\n",
    "#y_test.shape"
   ]
  },
  {
   "cell_type": "code",
   "execution_count": 5,
   "metadata": {},
   "outputs": [],
   "source": [
    "# Support vector classifier with linear kernel\n",
    "# High penalty to check for linearity\n",
    "linear_kernel = svm.SVC(kernel='linear', C=100000000)\n",
    "linear_kernel.fit(X_train, y_train)\n",
    "y_predict_LK = linear_kernel.predict(X_test)"
   ]
  },
  {
   "cell_type": "code",
   "execution_count": null,
   "metadata": {},
   "outputs": [
    {
     "name": "stdout",
     "output_type": "stream",
     "text": [
      "SVC linear kernel:               precision    recall  f1-score   support\n",
      "\n",
      "         0.0       0.79      0.94      0.86        32\n",
      "         1.0       0.00      0.00      0.00         8\n",
      "\n",
      "    accuracy                           0.75        40\n",
      "   macro avg       0.39      0.47      0.43        40\n",
      "weighted avg       0.63      0.75      0.69        40\n",
      "\n",
      "Accuracy: 0.75\n"
     ]
    }
   ],
   "source": [
    "print(classification_report(y_test, y_predict_LK))\n",
    "#print(\"Accuracy:\", accuracy_score(y_test, y_predict_LK)) "
   ]
  }
 ],
 "metadata": {
  "kernelspec": {
   "display_name": "Python 3",
   "language": "python",
   "name": "python3"
  },
  "language_info": {
   "codemirror_mode": {
    "name": "ipython",
    "version": 3
   },
   "file_extension": ".py",
   "mimetype": "text/x-python",
   "name": "python",
   "nbconvert_exporter": "python",
   "pygments_lexer": "ipython3",
   "version": "3.10.7"
  }
 },
 "nbformat": 4,
 "nbformat_minor": 2
}
