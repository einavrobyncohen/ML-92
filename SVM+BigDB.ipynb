{
 "cells": [
  {
   "cell_type": "code",
   "execution_count": null,
   "metadata": {},
   "outputs": [],
   "source": [
    "from sklearn import svm\n",
    "from sklearn.model_selection import train_test_split\n",
    "from sklearn.metrics import classification_report\n",
    "import pandas as pd"
   ]
  },
  {
   "cell_type": "markdown",
   "metadata": {},
   "source": [
    "# Load data"
   ]
  },
  {
   "cell_type": "code",
   "execution_count": 2,
   "metadata": {},
   "outputs": [],
   "source": [
    "diabetes_binary = pd.read_csv('processed_diabetes_binary.csv')"
   ]
  },
  {
   "cell_type": "markdown",
   "metadata": {},
   "source": [
    "# Needed features"
   ]
  },
  {
   "cell_type": "code",
   "execution_count": 3,
   "metadata": {},
   "outputs": [],
   "source": [
    "features = diabetes_binary['Diabetes_binary']\n",
    "target = diabetes_binary.drop(columns=['Diabetes_binary'])"
   ]
  },
  {
   "cell_type": "markdown",
   "metadata": {},
   "source": [
    "# Divide data into Train and Test set"
   ]
  },
  {
   "cell_type": "code",
   "execution_count": 4,
   "metadata": {},
   "outputs": [],
   "source": [
    "# 80% training, 20% test\n",
    "# random state integer passed to make it reproducable\n",
    "X_train, X_test, y_train, y_test = train_test_split(target, features, test_size=0.2, random_state=92)\n",
    "\n",
    "#X_train.shape\n",
    "#y_test.shape"
   ]
  },
  {
   "cell_type": "markdown",
   "metadata": {},
   "source": [
    "# SVM from sklearn"
   ]
  },
  {
   "cell_type": "code",
   "execution_count": 5,
   "metadata": {},
   "outputs": [],
   "source": [
    "# Support vector classifier with linear kernel\n",
    "# High penalty to check for linearity\n",
    "linear_kernel = svm.SVC(kernel='linear', C=100000)\n",
    "linear_kernel.fit(X_train, y_train)\n",
    "y_predict_LK = linear_kernel.predict(X_test)"
   ]
  },
  {
   "cell_type": "code",
   "execution_count": null,
   "metadata": {},
   "outputs": [],
   "source": [
    "# Support vector classifier linear SVC (faster than SVC still linear)\n",
    "#linearSVC = svm.LinearSVC(C=100000)\n",
    "#linearSVC.fit(X_train, y_train)\n",
    "#y_predict_LSVC = linearSVC.predict(X_test)"
   ]
  },
  {
   "cell_type": "markdown",
   "metadata": {},
   "source": [
    "# Evalution (accuracy)"
   ]
  },
  {
   "cell_type": "code",
   "execution_count": null,
   "metadata": {},
   "outputs": [],
   "source": [
    "print(\"SVC linear kernel\")\n",
    "print(classification_report(y_test, y_predict_LK))\n",
    "#print(\"Accuracy:\", accuracy_score(y_test, y_predict_LK))\n",
    "#print(\"Linear SVC:\", classification_report(y_test, y_predict_LSVC))"
   ]
  }
 ],
 "metadata": {
  "kernelspec": {
   "display_name": "Python 3",
   "language": "python",
   "name": "python3"
  },
  "language_info": {
   "codemirror_mode": {
    "name": "ipython",
    "version": 3
   },
   "file_extension": ".py",
   "mimetype": "text/x-python",
   "name": "python",
   "nbconvert_exporter": "python",
   "pygments_lexer": "ipython3",
   "version": "3.10.7"
  }
 },
 "nbformat": 4,
 "nbformat_minor": 2
}
