{
 "cells": [
  {
   "cell_type": "markdown",
   "metadata": {},
   "source": [
    "# Friedman's Test #"
   ]
  },
  {
   "cell_type": "code",
   "execution_count": 1,
   "metadata": {},
   "outputs": [],
   "source": [
    "import numpy as np\n",
    "from scipy.stats import friedmanchisquare"
   ]
  },
  {
   "cell_type": "markdown",
   "metadata": {},
   "source": [
    "### Friedman's Test -- AUC ###"
   ]
  },
  {
   "cell_type": "code",
   "execution_count": 4,
   "metadata": {},
   "outputs": [
    {
     "name": "stdout",
     "output_type": "stream",
     "text": [
      "P-value: 0.0194\n",
      "0.01943558072832033 < 0.05! party!\n"
     ]
    }
   ],
   "source": [
    "# AUC scores\n",
    "auc_scores = np.array([\n",
    "    [0.5007, 0.6833, 0.6175, 0.6258],  # Linear SVM\n",
    "    [0.5869, 0.6627, 0.6033, 0.5922],  # KNN\n",
    "    [0.5731, 0.7341, 0.7322, 0.7328],  # MLP\n",
    "    [0.5565, 0.7304, 0.7303, 0.7308]   # Logistic Regression\n",
    "])\n",
    "\n",
    "# Conduct the Friedman test\n",
    "stat, p = friedmanchisquare(*auc_scores.T)  # Transpose to match expected input structure\n",
    "\n",
    "print(f'P-value: {p:.4f}')\n",
    "\n",
    "if p < 0.05: \n",
    "    print(f\"{p} < 0.05! party!\")\n",
    "else:\n",
    "    print(f\"{p} > 0.05 no party\")"
   ]
  },
  {
   "cell_type": "markdown",
   "metadata": {},
   "source": [
    "### Friedman's Test -- F1 ###"
   ]
  },
  {
   "cell_type": "code",
   "execution_count": 10,
   "metadata": {},
   "outputs": [
    {
     "name": "stdout",
     "output_type": "stream",
     "text": [
      "P-value: 0.0440\n",
      "0.043989589915272694 < 0.05! party!\n"
     ]
    }
   ],
   "source": [
    "# F1 scores \n",
    "f1_scores = np.array([\n",
    "    [0.1634, 0.3542, 0.2978, 0.3033],  # Linear SVM\n",
    "    [0.2891, 0.3854, 0.3211, 0.2976],  # KNN\n",
    "    [0.2583, 0.4187, 0.4242, 0.4236],  # MLP\n",
    "    [0.2118, 0.4264, 0.4265, 0.4263]   # Logistic Regression\n",
    "])\n",
    "\n",
    "# Conduct the Friedman test\n",
    "stat, p = friedmanchisquare(*f1_scores.T)  # Transpose to match expected input structure\n",
    "\n",
    "print(f'P-value: {p:.4f}')\n",
    "\n",
    "if p < 0.05: \n",
    "    print(f\"{p} < 0.05! party!\")\n",
    "else:\n",
    "    print(f\"{p} > 0.05 no party\")"
   ]
  },
  {
   "cell_type": "markdown",
   "metadata": {},
   "source": [
    "### Friedman's Test -- Recall ###"
   ]
  },
  {
   "cell_type": "code",
   "execution_count": 11,
   "metadata": {},
   "outputs": [
    {
     "name": "stdout",
     "output_type": "stream",
     "text": [
      "P-value: 0.0440\n",
      "0.043989589915272694 < 0.05! party!\n"
     ]
    }
   ],
   "source": [
    "\n",
    "# Recall scores\n",
    "recall_scores = np.array([\n",
    "    [0.1959, 0.8262, 0.9753, 0.9473],  # Linear SVM\n",
    "    [0.2868, 0.5081, 0.2908, 0.3041],  # KNN\n",
    "    [0.1704, 0.7880, 0.7588, 0.7640],  # MLP\n",
    "    [0.1331, 0.7426, 0.7415, 0.7445]   # Logistic Regression\n",
    "])\n",
    "\n",
    "# Conduct the Friedman test\n",
    "stat, p = friedmanchisquare(*recall_scores.T)  # Transpose to match expected input structure\n",
    "print(f'P-value: {p:.4f}')\n",
    "if p < 0.05: \n",
    "    print(f\"{p} < 0.05! party!\")\n",
    "else:\n",
    "    print(f\"{p} > 0.05 no party\")"
   ]
  }
 ],
 "metadata": {
  "kernelspec": {
   "display_name": "Python 3",
   "language": "python",
   "name": "python3"
  },
  "language_info": {
   "codemirror_mode": {
    "name": "ipython",
    "version": 3
   },
   "file_extension": ".py",
   "mimetype": "text/x-python",
   "name": "python",
   "nbconvert_exporter": "python",
   "pygments_lexer": "ipython3",
   "version": "3.9.0"
  }
 },
 "nbformat": 4,
 "nbformat_minor": 2
}
